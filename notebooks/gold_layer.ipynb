{
 "cells": [
  {
   "cell_type": "code",
   "execution_count": 0,
   "metadata": {
    "application/vnd.databricks.v1+cell": {
     "cellMetadata": {
      "byteLimit": 2048000,
      "rowLimit": 10000
     },
     "inputWidgets": {},
     "nuid": "bfa7ec49-a916-4d31-ae7f-eb679315b1aa",
     "showTitle": false,
     "tableResultSettingsMap": {},
     "title": ""
    }
   },
   "outputs": [
    {
     "output_type": "display_data",
     "data": {
      "text/plain": [
       "Databricks visualization. Run in Databricks to view."
      ]
     },
     "metadata": {
      "application/vnd.databricks.v1.subcommand+json": {
       "baseErrorDetails": null,
       "bindings": {},
       "collapsed": false,
       "command": "%python\n__backend_agg_display_orig = display\n__backend_agg_dfs = []\ndef __backend_agg_display_new(df):\n    __backend_agg_df_modules = [\"pandas.core.frame\", \"databricks.koalas.frame\", \"pyspark.sql.dataframe\", \"pyspark.pandas.frame\", \"pyspark.sql.connect.dataframe\"]\n    if (type(df).__module__ in __backend_agg_df_modules and type(df).__name__ == 'DataFrame') or isinstance(df, list):\n        __backend_agg_dfs.append(df)\n\ndisplay = __backend_agg_display_new\n\ndef __backend_agg_user_code_fn():\n    import base64\n    exec(base64.standard_b64decode(\"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\").decode())\n\ntry:\n    # run user code\n    __backend_agg_user_code_fn()\n\n    #reset display function\n    display = __backend_agg_display_orig\n\n    if len(__backend_agg_dfs) > 0:\n        # create a temp view\n        if type(__backend_agg_dfs[0]).__module__ == \"databricks.koalas.frame\":\n            # koalas dataframe\n            __backend_agg_dfs[0].to_spark().createOrReplaceTempView(\"DatabricksViewaa734ce\")\n        elif type(__backend_agg_dfs[0]).__module__ == \"pandas.core.frame\" or isinstance(__backend_agg_dfs[0], list):\n            # pandas dataframe\n            spark.createDataFrame(__backend_agg_dfs[0]).createOrReplaceTempView(\"DatabricksViewaa734ce\")\n        else:\n            __backend_agg_dfs[0].createOrReplaceTempView(\"DatabricksViewaa734ce\")\n        #run backend agg\n        display(spark.sql(\"\"\"WITH q AS (select * from DatabricksViewaa734ce) SELECT `State`,SUM(`PatientCount`) `column_1c6d7f7723`,`State` FROM q GROUP BY `State`\"\"\"))\n    else:\n        displayHTML(\"dataframe no longer exists. If you're using dataframe.display(), use display(dataframe) instead.\")\n\n\nfinally:\n    spark.sql(\"drop view if exists DatabricksViewaa734ce\")\n    display = __backend_agg_display_orig\n    del __backend_agg_display_new\n    del __backend_agg_display_orig\n    del __backend_agg_dfs\n    del __backend_agg_user_code_fn\n\n",
       "commandTitle": "Visualization 1",
       "commandType": "auto",
       "commandVersion": 0,
       "commentThread": [],
       "commentsVisible": false,
       "contentSha256Hex": null,
       "customPlotOptions": {
        "redashChart": [
         {
          "key": "type",
          "value": "CHART"
         },
         {
          "key": "options",
          "value": {
           "alignYAxesAtZero": true,
           "coefficient": 1,
           "columnConfigurationMap": {
            "series": {
             "column": "State",
             "id": "column_1c6d7f7725"
            },
            "x": {
             "column": "State",
             "id": "column_1c6d7f7721"
            },
            "y": [
             {
              "column": "PatientCount",
              "id": "column_1c6d7f7723",
              "transform": "SUM"
             }
            ]
           },
           "dateTimeFormat": "DD/MM/YYYY HH:mm",
           "direction": {
            "type": "counterclockwise"
           },
           "error_y": {
            "type": "data",
            "visible": true
           },
           "globalSeriesType": "column",
           "isAggregationOn": true,
           "legend": {
            "traceorder": "normal"
           },
           "missingValuesAsZero": true,
           "numberFormat": "0,0.[00000]",
           "percentFormat": "0[.]00%",
           "series": {
            "error_y": {
             "type": "data",
             "visible": true
            },
            "stacking": null
           },
           "seriesOptions": {
            "column_1c6d7f7723": {
             "type": "column",
             "yAxis": 0
            }
           },
           "showDataLabels": false,
           "sizemode": "diameter",
           "sortX": true,
           "sortY": true,
           "swappedAxes": false,
           "textFormat": "",
           "useAggregationsUi": true,
           "valuesOptions": {},
           "version": 2,
           "xAxis": {
            "labels": {
             "enabled": true
            },
            "type": "-"
           },
           "yAxis": [
            {
             "type": "-"
            },
            {
             "opposite": true,
             "type": "-"
            }
           ]
          }
         }
        ]
       },
       "datasetPreviewNameToCmdIdMap": {},
       "diffDeletes": [],
       "diffInserts": [],
       "displayType": "redashChart",
       "error": null,
       "errorDetails": null,
       "errorSummary": null,
       "errorTraceType": null,
       "finishTime": 0,
       "globalVars": {},
       "guid": "",
       "height": "auto",
       "hideCommandCode": false,
       "hideCommandResult": false,
       "iPythonMetadata": null,
       "inputWidgets": {},
       "isLockedInExamMode": false,
       "latestUser": "a user",
       "latestUserId": null,
       "listResultMetadata": null,
       "metadata": {},
       "nuid": "ec08cd28-4947-47df-b8e5-8c25fb96b419",
       "origId": 0,
       "parentHierarchy": [],
       "pivotAggregation": null,
       "pivotColumns": null,
       "position": 2.0,
       "resultDbfsErrorMessage": null,
       "resultDbfsStatus": "INLINED_IN_TREE",
       "results": null,
       "showCommandTitle": false,
       "startTime": 0,
       "state": "input",
       "streamStates": {},
       "subcommandOptions": {
        "queryPlan": {
         "groups": [
          {
           "column": "State",
           "type": "column"
          },
          {
           "column": "State",
           "type": "column"
          }
         ],
         "selects": [
          {
           "column": "State",
           "type": "column"
          },
          {
           "alias": "column_1c6d7f7723",
           "args": [
            {
             "column": "PatientCount",
             "type": "column"
            }
           ],
           "function": "SUM",
           "type": "function"
          },
          {
           "column": "State",
           "type": "column"
          }
         ]
        }
       },
       "submitTime": 0,
       "subtype": "tableResultSubCmd.visualization",
       "tableResultIndex": 0,
       "tableResultSettingsMap": {},
       "useConsistentColors": false,
       "version": "CommandV1",
       "width": "auto",
       "workflows": null,
       "xColumns": null,
       "yColumns": null
      }
     },
     "output_type": "display_data"
    },
    {
     "output_type": "display_data",
     "data": {
      "text/plain": [
       "Databricks visualization. Run in Databricks to view."
      ]
     },
     "metadata": {
      "application/vnd.databricks.v1.subcommand+json": {
       "baseErrorDetails": null,
       "bindings": {},
       "collapsed": false,
       "command": "%python\n__backend_agg_display_orig = display\n__backend_agg_dfs = []\ndef __backend_agg_display_new(df):\n    __backend_agg_df_modules = [\"pandas.core.frame\", \"databricks.koalas.frame\", \"pyspark.sql.dataframe\", \"pyspark.pandas.frame\", \"pyspark.sql.connect.dataframe\"]\n    if (type(df).__module__ in __backend_agg_df_modules and type(df).__name__ == 'DataFrame') or isinstance(df, list):\n        __backend_agg_dfs.append(df)\n\ndisplay = __backend_agg_display_new\n\ndef __backend_agg_user_code_fn():\n    import base64\n    exec(base64.standard_b64decode(\"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\").decode())\n\ntry:\n    # run user code\n    __backend_agg_user_code_fn()\n\n    #reset display function\n    display = __backend_agg_display_orig\n\n    if len(__backend_agg_dfs) > 1:\n        # create a temp view\n        if type(__backend_agg_dfs[1]).__module__ == \"databricks.koalas.frame\":\n            # koalas dataframe\n            __backend_agg_dfs[1].to_spark().createOrReplaceTempView(\"DatabricksViewd877ea3\")\n        elif type(__backend_agg_dfs[1]).__module__ == \"pandas.core.frame\" or isinstance(__backend_agg_dfs[1], list):\n            # pandas dataframe\n            spark.createDataFrame(__backend_agg_dfs[1]).createOrReplaceTempView(\"DatabricksViewd877ea3\")\n        else:\n            __backend_agg_dfs[1].createOrReplaceTempView(\"DatabricksViewd877ea3\")\n        #run backend agg\n        display(spark.sql(\"\"\"WITH q AS (select * from DatabricksViewd877ea3) SELECT `Hospital_Name`,SUM(`PatientCount`) `column_1c6d7f7728`,`Rank` FROM q GROUP BY `Hospital_Name`,`Rank`\"\"\"))\n    else:\n        displayHTML(\"dataframe no longer exists. If you're using dataframe.display(), use display(dataframe) instead.\")\n\n\nfinally:\n    spark.sql(\"drop view if exists DatabricksViewd877ea3\")\n    display = __backend_agg_display_orig\n    del __backend_agg_display_new\n    del __backend_agg_display_orig\n    del __backend_agg_dfs\n    del __backend_agg_user_code_fn\n\n",
       "commandTitle": "Visualization 1",
       "commandType": "auto",
       "commandVersion": 0,
       "commentThread": [],
       "commentsVisible": false,
       "contentSha256Hex": null,
       "customPlotOptions": {
        "redashChart": [
         {
          "key": "type",
          "value": "CHART"
         },
         {
          "key": "options",
          "value": {
           "alignYAxesAtZero": true,
           "coefficient": 1,
           "columnConfigurationMap": {
            "series": {
             "column": "Rank",
             "id": "column_1c6d7f7730"
            },
            "x": {
             "column": "Hospital_Name",
             "id": "column_1c6d7f7726"
            },
            "y": [
             {
              "column": "PatientCount",
              "id": "column_1c6d7f7728",
              "transform": "SUM"
             }
            ]
           },
           "dateTimeFormat": "DD/MM/YYYY HH:mm",
           "direction": {
            "type": "counterclockwise"
           },
           "error_y": {
            "type": "data",
            "visible": true
           },
           "globalSeriesType": "column",
           "isAggregationOn": true,
           "legend": {
            "traceorder": "normal"
           },
           "missingValuesAsZero": true,
           "numberFormat": "0,0.[00000]",
           "percentFormat": "0[.]00%",
           "series": {
            "error_y": {
             "type": "data",
             "visible": true
            },
            "stacking": null
           },
           "seriesOptions": {
            "column_1c6d7f7728": {
             "type": "column",
             "yAxis": 0
            }
           },
           "showDataLabels": false,
           "sizemode": "diameter",
           "sortX": true,
           "sortY": true,
           "swappedAxes": false,
           "textFormat": "",
           "useAggregationsUi": true,
           "valuesOptions": {},
           "version": 2,
           "xAxis": {
            "labels": {
             "enabled": true
            },
            "type": "-"
           },
           "yAxis": [
            {
             "type": "-"
            },
            {
             "opposite": true,
             "type": "-"
            }
           ]
          }
         }
        ]
       },
       "datasetPreviewNameToCmdIdMap": {},
       "diffDeletes": [],
       "diffInserts": [],
       "displayType": "redashChart",
       "error": null,
       "errorDetails": null,
       "errorSummary": null,
       "errorTraceType": null,
       "finishTime": 0,
       "globalVars": {},
       "guid": "",
       "height": "auto",
       "hideCommandCode": false,
       "hideCommandResult": false,
       "iPythonMetadata": null,
       "inputWidgets": {},
       "isLockedInExamMode": false,
       "latestUser": "a user",
       "latestUserId": null,
       "listResultMetadata": null,
       "metadata": {},
       "nuid": "c4cb1f10-70d2-4797-bee7-55bae6af8185",
       "origId": 0,
       "parentHierarchy": [],
       "pivotAggregation": null,
       "pivotColumns": null,
       "position": 2.0,
       "resultDbfsErrorMessage": null,
       "resultDbfsStatus": "INLINED_IN_TREE",
       "results": null,
       "showCommandTitle": false,
       "startTime": 0,
       "state": "input",
       "streamStates": {},
       "subcommandOptions": {
        "queryPlan": {
         "groups": [
          {
           "column": "Hospital_Name",
           "type": "column"
          },
          {
           "column": "Rank",
           "type": "column"
          }
         ],
         "selects": [
          {
           "column": "Hospital_Name",
           "type": "column"
          },
          {
           "alias": "column_1c6d7f7728",
           "args": [
            {
             "column": "PatientCount",
             "type": "column"
            }
           ],
           "function": "SUM",
           "type": "function"
          },
          {
           "column": "Rank",
           "type": "column"
          }
         ]
        }
       },
       "submitTime": 0,
       "subtype": "tableResultSubCmd.visualization",
       "tableResultIndex": 1,
       "tableResultSettingsMap": {},
       "useConsistentColors": false,
       "version": "CommandV1",
       "width": "auto",
       "workflows": null,
       "xColumns": null,
       "yColumns": null
      }
     },
     "output_type": "display_data"
    },
    {
     "output_type": "display_data",
     "data": {
      "text/plain": [
       "Databricks visualization. Run in Databricks to view."
      ]
     },
     "metadata": {
      "application/vnd.databricks.v1.subcommand+json": {
       "baseErrorDetails": null,
       "bindings": {},
       "collapsed": false,
       "command": "%python\n__backend_agg_display_orig = display\n__backend_agg_dfs = []\ndef __backend_agg_display_new(df):\n    __backend_agg_df_modules = [\"pandas.core.frame\", \"databricks.koalas.frame\", \"pyspark.sql.dataframe\", \"pyspark.pandas.frame\", \"pyspark.sql.connect.dataframe\"]\n    if (type(df).__module__ in __backend_agg_df_modules and type(df).__name__ == 'DataFrame') or isinstance(df, list):\n        __backend_agg_dfs.append(df)\n\ndisplay = __backend_agg_display_new\n\ndef __backend_agg_user_code_fn():\n    import base64\n    exec(base64.standard_b64decode(\"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\").decode())\n\ntry:\n    # run user code\n    __backend_agg_user_code_fn()\n\n    #reset display function\n    display = __backend_agg_display_orig\n\n    if len(__backend_agg_dfs) > 2:\n        # create a temp view\n        if type(__backend_agg_dfs[2]).__module__ == \"databricks.koalas.frame\":\n            # koalas dataframe\n            __backend_agg_dfs[2].to_spark().createOrReplaceTempView(\"DatabricksView3d09a2e\")\n        elif type(__backend_agg_dfs[2]).__module__ == \"pandas.core.frame\" or isinstance(__backend_agg_dfs[2], list):\n            # pandas dataframe\n            spark.createDataFrame(__backend_agg_dfs[2]).createOrReplaceTempView(\"DatabricksView3d09a2e\")\n        else:\n            __backend_agg_dfs[2].createOrReplaceTempView(\"DatabricksView3d09a2e\")\n        #run backend agg\n        display(spark.sql(\"\"\"WITH q AS (select * from DatabricksView3d09a2e) SELECT `Hospital_Name`,SUM(`PatientCount`) `column_1c6d7f7736` FROM q GROUP BY `Hospital_Name`\"\"\"))\n    else:\n        displayHTML(\"dataframe no longer exists. If you're using dataframe.display(), use display(dataframe) instead.\")\n\n\nfinally:\n    spark.sql(\"drop view if exists DatabricksView3d09a2e\")\n    display = __backend_agg_display_orig\n    del __backend_agg_display_new\n    del __backend_agg_display_orig\n    del __backend_agg_dfs\n    del __backend_agg_user_code_fn\n\n",
       "commandTitle": "Visualization 1",
       "commandType": "auto",
       "commandVersion": 0,
       "commentThread": [],
       "commentsVisible": false,
       "contentSha256Hex": null,
       "customPlotOptions": {
        "redashChart": [
         {
          "key": "type",
          "value": "CHART"
         },
         {
          "key": "options",
          "value": {
           "alignYAxesAtZero": true,
           "coefficient": 1,
           "columnConfigurationMap": {
            "x": {
             "column": "Hospital_Name",
             "id": "column_1c6d7f7731"
            },
            "y": [
             {
              "column": "PatientCount",
              "id": "column_1c6d7f7736",
              "transform": "SUM"
             }
            ]
           },
           "dateTimeFormat": "DD/MM/YYYY HH:mm",
           "direction": {
            "type": "counterclockwise"
           },
           "error_y": {
            "type": "data",
            "visible": true
           },
           "globalSeriesType": "column",
           "isAggregationOn": true,
           "legend": {
            "traceorder": "normal"
           },
           "missingValuesAsZero": true,
           "numberFormat": "0,0.[00000]",
           "percentFormat": "0[.]00%",
           "series": {
            "error_y": {
             "type": "data",
             "visible": true
            },
            "stacking": null
           },
           "seriesOptions": {
            "column_1c6d7f7733": {
             "type": "column",
             "yAxis": 0
            },
            "column_1c6d7f7736": {
             "type": "column",
             "yAxis": 0
            }
           },
           "showDataLabels": false,
           "sizemode": "diameter",
           "sortX": true,
           "sortY": true,
           "swappedAxes": false,
           "textFormat": "",
           "useAggregationsUi": true,
           "valuesOptions": {},
           "version": 2,
           "xAxis": {
            "labels": {
             "enabled": true
            },
            "type": "-"
           },
           "yAxis": [
            {
             "type": "-"
            },
            {
             "opposite": true,
             "type": "-"
            }
           ]
          }
         }
        ]
       },
       "datasetPreviewNameToCmdIdMap": {},
       "diffDeletes": [],
       "diffInserts": [],
       "displayType": "redashChart",
       "error": null,
       "errorDetails": null,
       "errorSummary": null,
       "errorTraceType": null,
       "finishTime": 0,
       "globalVars": {},
       "guid": "",
       "height": "auto",
       "hideCommandCode": false,
       "hideCommandResult": false,
       "iPythonMetadata": null,
       "inputWidgets": {},
       "isLockedInExamMode": false,
       "latestUser": "a user",
       "latestUserId": null,
       "listResultMetadata": null,
       "metadata": {},
       "nuid": "3b11e6c5-d7d3-4a35-8172-b3604c310081",
       "origId": 0,
       "parentHierarchy": [],
       "pivotAggregation": null,
       "pivotColumns": null,
       "position": 2.0,
       "resultDbfsErrorMessage": null,
       "resultDbfsStatus": "INLINED_IN_TREE",
       "results": null,
       "showCommandTitle": false,
       "startTime": 0,
       "state": "input",
       "streamStates": {},
       "subcommandOptions": {
        "queryPlan": {
         "groups": [
          {
           "column": "Hospital_Name",
           "type": "column"
          }
         ],
         "selects": [
          {
           "column": "Hospital_Name",
           "type": "column"
          },
          {
           "alias": "column_1c6d7f7736",
           "args": [
            {
             "column": "PatientCount",
             "type": "column"
            }
           ],
           "function": "SUM",
           "type": "function"
          }
         ]
        }
       },
       "submitTime": 0,
       "subtype": "tableResultSubCmd.visualization",
       "tableResultIndex": 2,
       "tableResultSettingsMap": {},
       "useConsistentColors": false,
       "version": "CommandV1",
       "width": "auto",
       "workflows": null,
       "xColumns": null,
       "yColumns": null
      }
     },
     "output_type": "display_data"
    },
    {
     "output_type": "display_data",
     "data": {
      "text/plain": [
       "Databricks visualization. Run in Databricks to view."
      ]
     },
     "metadata": {
      "application/vnd.databricks.v1.subcommand+json": {
       "baseErrorDetails": null,
       "bindings": {},
       "collapsed": false,
       "command": "%python\n__backend_agg_display_orig = display\n__backend_agg_dfs = []\ndef __backend_agg_display_new(df):\n    __backend_agg_df_modules = [\"pandas.core.frame\", \"databricks.koalas.frame\", \"pyspark.sql.dataframe\", \"pyspark.pandas.frame\", \"pyspark.sql.connect.dataframe\"]\n    if (type(df).__module__ in __backend_agg_df_modules and type(df).__name__ == 'DataFrame') or isinstance(df, list):\n        __backend_agg_dfs.append(df)\n\ndisplay = __backend_agg_display_new\n\ndef __backend_agg_user_code_fn():\n    import base64\n    exec(base64.standard_b64decode(\"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\").decode())\n\ntry:\n    # run user code\n    __backend_agg_user_code_fn()\n\n    #reset display function\n    display = __backend_agg_display_orig\n\n    if len(__backend_agg_dfs) > 3:\n        # create a temp view\n        if type(__backend_agg_dfs[3]).__module__ == \"databricks.koalas.frame\":\n            # koalas dataframe\n            __backend_agg_dfs[3].to_spark().createOrReplaceTempView(\"DatabricksView95babb5\")\n        elif type(__backend_agg_dfs[3]).__module__ == \"pandas.core.frame\" or isinstance(__backend_agg_dfs[3], list):\n            # pandas dataframe\n            spark.createDataFrame(__backend_agg_dfs[3]).createOrReplaceTempView(\"DatabricksView95babb5\")\n        else:\n            __backend_agg_dfs[3].createOrReplaceTempView(\"DatabricksView95babb5\")\n        #run backend agg\n        display(spark.sql(\"\"\"WITH q AS (select * from DatabricksView95babb5) SELECT `SmokerStatus`,`AvgRiskScore`,`PatientCount`,`SmokerStatus` FROM q\"\"\"))\n    else:\n        displayHTML(\"dataframe no longer exists. If you're using dataframe.display(), use display(dataframe) instead.\")\n\n\nfinally:\n    spark.sql(\"drop view if exists DatabricksView95babb5\")\n    display = __backend_agg_display_orig\n    del __backend_agg_display_new\n    del __backend_agg_display_orig\n    del __backend_agg_dfs\n    del __backend_agg_user_code_fn\n\n",
       "commandTitle": "Visualization 1",
       "commandType": "auto",
       "commandVersion": 0,
       "commentThread": [],
       "commentsVisible": false,
       "contentSha256Hex": null,
       "customPlotOptions": {
        "redashChart": [
         {
          "key": "type",
          "value": "CHART"
         },
         {
          "key": "options",
          "value": {
           "alignYAxesAtZero": true,
           "coefficient": 1,
           "columnConfigurationMap": {
            "x": {
             "column": "SmokerStatus",
             "id": "column_1c6d7f7745"
            },
            "y": [
             {
              "column": "AvgRiskScore",
              "id": "column_1c6d7f7747"
             },
             {
              "column": "PatientCount",
              "id": "column_1c6d7f7748"
             }
            ],
            "yError": {
             "column": "SmokerStatus",
             "id": "column_1c6d7f7749"
            }
           },
           "dateTimeFormat": "DD/MM/YYYY HH:mm",
           "direction": {
            "type": "counterclockwise"
           },
           "error_y": {
            "type": "data",
            "visible": true
           },
           "globalSeriesType": "scatter",
           "legend": {
            "traceorder": "normal"
           },
           "missingValuesAsZero": true,
           "numBins": 10,
           "numberFormat": "0,0.[00000]",
           "percentFormat": "0[.]00%",
           "series": {
            "error_y": {
             "type": "data",
             "visible": true
            },
            "stacking": null
           },
           "seriesOptions": {
            "AvgRiskScore": {
             "type": "scatter",
             "yAxis": 0
            },
            "PatientCount": {
             "type": "scatter",
             "yAxis": 0
            },
            "column_1c6d7f7740": {
             "name": "PatientCount",
             "type": "scatter",
             "yAxis": 0
            }
           },
           "showDataLabels": false,
           "sizemode": "diameter",
           "sortX": true,
           "sortY": true,
           "swappedAxes": false,
           "textFormat": "",
           "useAggregationsUi": true,
           "valuesOptions": {},
           "version": 2,
           "xAxis": {
            "labels": {
             "enabled": true
            },
            "type": "-"
           },
           "yAxis": [
            {
             "type": "-"
            },
            {
             "opposite": true,
             "type": "-"
            }
           ]
          }
         }
        ]
       },
       "datasetPreviewNameToCmdIdMap": {},
       "diffDeletes": [],
       "diffInserts": [],
       "displayType": "redashChart",
       "error": null,
       "errorDetails": null,
       "errorSummary": null,
       "errorTraceType": null,
       "finishTime": 0,
       "globalVars": {},
       "guid": "",
       "height": "auto",
       "hideCommandCode": false,
       "hideCommandResult": false,
       "iPythonMetadata": null,
       "inputWidgets": {},
       "isLockedInExamMode": false,
       "latestUser": "a user",
       "latestUserId": null,
       "listResultMetadata": null,
       "metadata": {},
       "nuid": "327f5c99-d2bc-4f97-9b0c-0c79f7e0ccda",
       "origId": 0,
       "parentHierarchy": [],
       "pivotAggregation": null,
       "pivotColumns": null,
       "position": 2.0,
       "resultDbfsErrorMessage": null,
       "resultDbfsStatus": "INLINED_IN_TREE",
       "results": null,
       "showCommandTitle": false,
       "startTime": 0,
       "state": "input",
       "streamStates": {},
       "subcommandOptions": {
        "queryPlan": {
         "selects": [
          {
           "column": "SmokerStatus",
           "type": "column"
          },
          {
           "column": "AvgRiskScore",
           "type": "column"
          },
          {
           "column": "PatientCount",
           "type": "column"
          },
          {
           "column": "SmokerStatus",
           "type": "column"
          }
         ]
        }
       },
       "submitTime": 0,
       "subtype": "tableResultSubCmd.visualization",
       "tableResultIndex": 3,
       "tableResultSettingsMap": {},
       "useConsistentColors": false,
       "version": "CommandV1",
       "width": "auto",
       "workflows": null,
       "xColumns": null,
       "yColumns": null
      }
     },
     "output_type": "display_data"
    },
    {
     "output_type": "display_data",
     "data": {
      "text/plain": [
       "Databricks visualization. Run in Databricks to view."
      ]
     },
     "metadata": {
      "application/vnd.databricks.v1.subcommand+json": {
       "baseErrorDetails": null,
       "bindings": {},
       "collapsed": false,
       "command": "%python\n__backend_agg_display_orig = display\n__backend_agg_dfs = []\ndef __backend_agg_display_new(df):\n    __backend_agg_df_modules = [\"pandas.core.frame\", \"databricks.koalas.frame\", \"pyspark.sql.dataframe\", \"pyspark.pandas.frame\", \"pyspark.sql.connect.dataframe\"]\n    if (type(df).__module__ in __backend_agg_df_modules and type(df).__name__ == 'DataFrame') or isinstance(df, list):\n        __backend_agg_dfs.append(df)\n\ndisplay = __backend_agg_display_new\n\ndef __backend_agg_user_code_fn():\n    import base64\n    exec(base64.standard_b64decode(\"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\").decode())\n\ntry:\n    # run user code\n    __backend_agg_user_code_fn()\n\n    #reset display function\n    display = __backend_agg_display_orig\n\n    if len(__backend_agg_dfs) > 4:\n        # create a temp view\n        if type(__backend_agg_dfs[4]).__module__ == \"databricks.koalas.frame\":\n            # koalas dataframe\n            __backend_agg_dfs[4].to_spark().createOrReplaceTempView(\"DatabricksView8558d3b\")\n        elif type(__backend_agg_dfs[4]).__module__ == \"pandas.core.frame\" or isinstance(__backend_agg_dfs[4], list):\n            # pandas dataframe\n            spark.createDataFrame(__backend_agg_dfs[4]).createOrReplaceTempView(\"DatabricksView8558d3b\")\n        else:\n            __backend_agg_dfs[4].createOrReplaceTempView(\"DatabricksView8558d3b\")\n        #run backend agg\n        display(spark.sql(\"\"\"WITH q AS (select * from DatabricksView8558d3b) SELECT `AvgRiskScore`,SUM(`PatientCount`) `column_1c6d7f7758`,`RaceEthnicityCategory` FROM q GROUP BY `AvgRiskScore`,`RaceEthnicityCategory`\"\"\"))\n    else:\n        displayHTML(\"dataframe no longer exists. If you're using dataframe.display(), use display(dataframe) instead.\")\n\n\nfinally:\n    spark.sql(\"drop view if exists DatabricksView8558d3b\")\n    display = __backend_agg_display_orig\n    del __backend_agg_display_new\n    del __backend_agg_display_orig\n    del __backend_agg_dfs\n    del __backend_agg_user_code_fn\n\n",
       "commandTitle": "Visualization 1",
       "commandType": "auto",
       "commandVersion": 0,
       "commentThread": [],
       "commentsVisible": false,
       "contentSha256Hex": null,
       "customPlotOptions": {
        "redashChart": [
         {
          "key": "type",
          "value": "CHART"
         },
         {
          "key": "options",
          "value": {
           "alignYAxesAtZero": true,
           "coefficient": 1,
           "columnConfigurationMap": {
            "series": {
             "column": "RaceEthnicityCategory",
             "id": "column_1c6d7f7759"
            },
            "x": {
             "column": "AvgRiskScore",
             "id": "column_1c6d7f7757"
            },
            "y": [
             {
              "column": "PatientCount",
              "id": "column_1c6d7f7758",
              "transform": "SUM"
             }
            ]
           },
           "dateTimeFormat": "DD/MM/YYYY HH:mm",
           "direction": {
            "type": "counterclockwise"
           },
           "error_y": {
            "type": "data",
            "visible": true
           },
           "globalSeriesType": "area",
           "isAggregationOn": true,
           "legend": {
            "traceorder": "normal"
           },
           "missingValuesAsZero": true,
           "numberFormat": "0,0.[00000]",
           "percentFormat": "0[.]00%",
           "series": {
            "error_y": {
             "type": "data",
             "visible": true
            },
            "stacking": null
           },
           "seriesOptions": {
            "column_1c6d7f7758": {
             "name": "PatientCount",
             "type": "area",
             "yAxis": 0
            }
           },
           "showDataLabels": false,
           "sizemode": "diameter",
           "sortX": true,
           "sortY": true,
           "swappedAxes": false,
           "textFormat": "",
           "useAggregationsUi": true,
           "valuesOptions": {},
           "version": 2,
           "xAxis": {
            "labels": {
             "enabled": true
            },
            "type": "-"
           },
           "yAxis": [
            {
             "type": "-"
            },
            {
             "opposite": true,
             "type": "-"
            }
           ]
          }
         }
        ]
       },
       "datasetPreviewNameToCmdIdMap": {},
       "diffDeletes": [],
       "diffInserts": [],
       "displayType": "redashChart",
       "error": null,
       "errorDetails": null,
       "errorSummary": null,
       "errorTraceType": null,
       "finishTime": 0,
       "globalVars": {},
       "guid": "",
       "height": "auto",
       "hideCommandCode": false,
       "hideCommandResult": false,
       "iPythonMetadata": null,
       "inputWidgets": {},
       "isLockedInExamMode": false,
       "latestUser": "a user",
       "latestUserId": null,
       "listResultMetadata": null,
       "metadata": {},
       "nuid": "f56926bb-48cc-41ce-9d54-b5c4c85fccce",
       "origId": 0,
       "parentHierarchy": [],
       "pivotAggregation": null,
       "pivotColumns": null,
       "position": 2.0,
       "resultDbfsErrorMessage": null,
       "resultDbfsStatus": "INLINED_IN_TREE",
       "results": null,
       "showCommandTitle": false,
       "startTime": 0,
       "state": "input",
       "streamStates": {},
       "subcommandOptions": {
        "queryPlan": {
         "groups": [
          {
           "column": "AvgRiskScore",
           "type": "column"
          },
          {
           "column": "RaceEthnicityCategory",
           "type": "column"
          }
         ],
         "selects": [
          {
           "column": "AvgRiskScore",
           "type": "column"
          },
          {
           "alias": "column_1c6d7f7758",
           "args": [
            {
             "column": "PatientCount",
             "type": "column"
            }
           ],
           "function": "SUM",
           "type": "function"
          },
          {
           "column": "RaceEthnicityCategory",
           "type": "column"
          }
         ]
        }
       },
       "submitTime": 0,
       "subtype": "tableResultSubCmd.visualization",
       "tableResultIndex": 4,
       "tableResultSettingsMap": {},
       "useConsistentColors": false,
       "version": "CommandV1",
       "width": "auto",
       "workflows": null,
       "xColumns": null,
       "yColumns": null
      }
     },
     "output_type": "display_data"
    },
    {
     "output_type": "display_data",
     "data": {
      "text/plain": [
       "Databricks visualization. Run in Databricks to view."
      ]
     },
     "metadata": {
      "application/vnd.databricks.v1.subcommand+json": {
       "baseErrorDetails": null,
       "bindings": {},
       "collapsed": false,
       "command": "%python\n__backend_agg_display_orig = display\n__backend_agg_dfs = []\ndef __backend_agg_display_new(df):\n    __backend_agg_df_modules = [\"pandas.core.frame\", \"databricks.koalas.frame\", \"pyspark.sql.dataframe\", \"pyspark.pandas.frame\", \"pyspark.sql.connect.dataframe\"]\n    if (type(df).__module__ in __backend_agg_df_modules and type(df).__name__ == 'DataFrame') or isinstance(df, list):\n        __backend_agg_dfs.append(df)\n\ndisplay = __backend_agg_display_new\n\ndef __backend_agg_user_code_fn():\n    import base64\n    exec(base64.standard_b64decode(\"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\").decode())\n\ntry:\n    # run user code\n    __backend_agg_user_code_fn()\n\n    #reset display function\n    display = __backend_agg_display_orig\n\n    if len(__backend_agg_dfs) > 0:\n        # create a temp view\n        if type(__backend_agg_dfs[0]).__module__ == \"databricks.koalas.frame\":\n            # koalas dataframe\n            __backend_agg_dfs[0].to_spark().createOrReplaceTempView(\"DatabricksViewbebce35\")\n        elif type(__backend_agg_dfs[0]).__module__ == \"pandas.core.frame\" or isinstance(__backend_agg_dfs[0], list):\n            # pandas dataframe\n            spark.createDataFrame(__backend_agg_dfs[0]).createOrReplaceTempView(\"DatabricksViewbebce35\")\n        else:\n            __backend_agg_dfs[0].createOrReplaceTempView(\"DatabricksViewbebce35\")\n        #run backend agg\n        display(spark.sql(\"\"\"WITH q AS (select * from DatabricksViewbebce35) SELECT `AgeCategory`,SUM(`PatientCount`) `column_1c6d7f7764`,`AgeCategory` FROM q GROUP BY `AgeCategory`\"\"\"))\n    else:\n        displayHTML(\"dataframe no longer exists. If you're using dataframe.display(), use display(dataframe) instead.\")\n\n\nfinally:\n    spark.sql(\"drop view if exists DatabricksViewbebce35\")\n    display = __backend_agg_display_orig\n    del __backend_agg_display_new\n    del __backend_agg_display_orig\n    del __backend_agg_dfs\n    del __backend_agg_user_code_fn\n\n",
       "commandTitle": "Visualization 2",
       "commandType": "auto",
       "commandVersion": 0,
       "commentThread": [],
       "commentsVisible": false,
       "contentSha256Hex": null,
       "customPlotOptions": {
        "redashChart": [
         {
          "key": "type",
          "value": "CHART"
         },
         {
          "key": "options",
          "value": {
           "alignYAxesAtZero": true,
           "coefficient": 1,
           "columnConfigurationMap": {
            "series": {
             "column": "AgeCategory",
             "id": "column_1c6d7f7766"
            },
            "x": {
             "column": "AgeCategory",
             "id": "column_1c6d7f7762"
            },
            "y": [
             {
              "column": "PatientCount",
              "id": "column_1c6d7f7764",
              "transform": "SUM"
             }
            ]
           },
           "dateTimeFormat": "DD/MM/YYYY HH:mm",
           "direction": {
            "type": "counterclockwise"
           },
           "error_y": {
            "type": "data",
            "visible": true
           },
           "globalSeriesType": "column",
           "isAggregationOn": true,
           "legend": {
            "traceorder": "normal"
           },
           "missingValuesAsZero": true,
           "numberFormat": "0,0.[00000]",
           "percentFormat": "0[.]00%",
           "series": {
            "error_y": {
             "type": "data",
             "visible": true
            },
            "stacking": null
           },
           "seriesOptions": {
            "column_1c6d7f7764": {
             "type": "column",
             "yAxis": 0
            }
           },
           "showDataLabels": false,
           "sizemode": "diameter",
           "sortX": true,
           "sortY": true,
           "swappedAxes": false,
           "textFormat": "",
           "useAggregationsUi": true,
           "valuesOptions": {},
           "version": 2,
           "xAxis": {
            "labels": {
             "enabled": true
            },
            "type": "-"
           },
           "yAxis": [
            {
             "type": "-"
            },
            {
             "opposite": true,
             "type": "-"
            }
           ]
          }
         }
        ]
       },
       "datasetPreviewNameToCmdIdMap": {},
       "diffDeletes": [],
       "diffInserts": [],
       "displayType": "redashChart",
       "error": null,
       "errorDetails": null,
       "errorSummary": null,
       "errorTraceType": null,
       "finishTime": 0,
       "globalVars": {},
       "guid": "",
       "height": "auto",
       "hideCommandCode": false,
       "hideCommandResult": false,
       "iPythonMetadata": null,
       "inputWidgets": {},
       "isLockedInExamMode": false,
       "latestUser": "a user",
       "latestUserId": null,
       "listResultMetadata": null,
       "metadata": {},
       "nuid": "86a8c7f1-1c8a-42e6-8902-3bd9dc95eceb",
       "origId": 0,
       "parentHierarchy": [],
       "pivotAggregation": null,
       "pivotColumns": null,
       "position": 3.0,
       "resultDbfsErrorMessage": null,
       "resultDbfsStatus": "INLINED_IN_TREE",
       "results": null,
       "showCommandTitle": false,
       "startTime": 0,
       "state": "input",
       "streamStates": {},
       "subcommandOptions": {
        "queryPlan": {
         "groups": [
          {
           "column": "AgeCategory",
           "type": "column"
          },
          {
           "column": "AgeCategory",
           "type": "column"
          }
         ],
         "selects": [
          {
           "column": "AgeCategory",
           "type": "column"
          },
          {
           "alias": "column_1c6d7f7764",
           "args": [
            {
             "column": "PatientCount",
             "type": "column"
            }
           ],
           "function": "SUM",
           "type": "function"
          },
          {
           "column": "AgeCategory",
           "type": "column"
          }
         ]
        }
       },
       "submitTime": 0,
       "subtype": "tableResultSubCmd.visualization",
       "tableResultIndex": 0,
       "tableResultSettingsMap": {},
       "useConsistentColors": false,
       "version": "CommandV1",
       "width": "auto",
       "workflows": null,
       "xColumns": null,
       "yColumns": null
      }
     },
     "output_type": "display_data"
    }
   ],
   "source": [
    "from pyspark.sql import SparkSession, Row\n",
    "from pyspark.sql.functions import col, when, avg, count, sum, lit, row_number\n",
    "from pyspark.sql.window import Window\n",
    "from datetime import datetime\n",
    "import uuid\n",
    "import traceback\n",
    "\n",
    "\n",
    "# ------------------------------\n",
    "# Initialize Spark\n",
    "# ------------------------------\n",
    "spark = SparkSession.builder.appName(\"HealthcareGoldLayerExtended\").getOrCreate()\n",
    "\n",
    "# ------------------------------\n",
    "# Job ID for this run\n",
    "# ------------------------------\n",
    "job_id = str(uuid.uuid4())\n",
    "\n",
    "# ------------------------------\n",
    "# Logging function\n",
    "# ------------------------------\n",
    "def log_step(step_name, status=\"INFO\", message=\"\"):\n",
    "    log_df = spark.createDataFrame([\n",
    "        Row(\n",
    "            job_id=job_id,\n",
    "            timestamp=datetime.utcnow().isoformat(),\n",
    "            step=step_name,\n",
    "            status=status,\n",
    "            message=message\n",
    "        )\n",
    "    ])\n",
    "    (\n",
    "        log_df.write\n",
    "        .format(\"delta\")\n",
    "        .mode(\"append\")\n",
    "        .saveAsTable(\"logs.curated_logs.logs\")  # Gold log path\n",
    "    )\n",
    "\n",
    "try:\n",
    "    log_step(\"START\", \"INFO\", \"Gold Layer extended aggregations started\")\n",
    "\n",
    "    # ------------------------------\n",
    "    # Read Silver Layer data\n",
    "    # ------------------------------\n",
    "    silver_df = spark.table(\"processed_outputs.silver.processed\")\n",
    "    log_step(\"LOAD_SILVER\", \"INFO\", f\"Loaded {silver_df.count()} rows from Silver Layer\")\n",
    "\n",
    "    # ------------------------------\n",
    "    # Compute Patient Risk Score\n",
    "    # ------------------------------\n",
    "    gold_df = silver_df.withColumn(\n",
    "        \"RiskScore\",\n",
    "        col(\"HadHeartAttack\")*3 +\n",
    "        col(\"HadStroke\")*3 +\n",
    "        col(\"HadDiabetes\")*2 +\n",
    "        col(\"HadCOPD\")*2 +\n",
    "        col(\"HadAsthma\")*1 +\n",
    "        when(col(\"SmokerStatus\")==\"CURRENT\", 2).otherwise(0) +\n",
    "        when(col(\"BMI\")>30, 2).otherwise(0)\n",
    "    )\n",
    "    log_step(\"COMPUTE_RISKSCORE\", \"INFO\", \"RiskScore column computed\")\n",
    "\n",
    "    # ------------------------------\n",
    "    # Aggregation 1: By State & AgeCategory\n",
    "    # ------------------------------\n",
    "    aggregated_df = gold_df.groupBy(\"State\", \"AgeCategory\").agg(\n",
    "        avg(\"RiskScore\").alias(\"AvgRiskScore\"),\n",
    "        count(\"*\").alias(\"PatientCount\"),\n",
    "        sum(\"HadDiabetes\").alias(\"DiabetesCases\"),\n",
    "        sum(\"HadHeartAttack\").alias(\"HeartAttackCases\")\n",
    "    ).withColumn(\"DataSource\", lit(\"Kaggle Heart Disease Dataset\"))\n",
    "\n",
    "    aggregated_df.write.format(\"delta\") \\\n",
    "        .mode(\"overwrite\") \\\n",
    "        .option(\"overwriteSchema\", \"true\") \\\n",
    "        .saveAsTable(\"processed_outputs.curated.health_metrics\")\n",
    "    log_step(\"SAVE_HEALTH_METRICS\", \"INFO\", f\"Saved {aggregated_df.count()} rows to health_metrics\")\n",
    "    display(aggregated_df)\n",
    "\n",
    "    # ------------------------------\n",
    "    # Aggregation 2: Hospital Ranking by Patient Count\n",
    "    # ------------------------------\n",
    "    hospital_patient_count = gold_df.groupBy(\"Hospital_Name\").agg(\n",
    "        count(\"*\").alias(\"PatientCount\")\n",
    "    )\n",
    "    window_spec = Window.orderBy(col(\"PatientCount\").desc())\n",
    "    ranked_hospitals = hospital_patient_count.withColumn(\n",
    "        \"Rank\", row_number().over(window_spec)\n",
    "    )\n",
    "\n",
    "    ranked_hospitals.write.format(\"delta\") \\\n",
    "        .mode(\"overwrite\") \\\n",
    "        .option(\"overwriteSchema\", \"true\") \\\n",
    "        .saveAsTable(\"processed_outputs.curated.hospital_rankings\")\n",
    "    log_step(\"SAVE_HOSPITAL_RANKINGS\", \"INFO\", f\"Saved {ranked_hospitals.count()} rows to hospital_rankings\")\n",
    "    display(ranked_hospitals)\n",
    "\n",
    "    # ------------------------------\n",
    "    # Aggregation 3: Average RiskScore by Hospital\n",
    "    # ------------------------------\n",
    "    risk_by_hospital = gold_df.groupBy(\"Hospital_Name\").agg(\n",
    "        avg(\"RiskScore\").alias(\"AvgRiskScore\"),\n",
    "        count(\"*\").alias(\"PatientCount\")\n",
    "    )\n",
    "    risk_by_hospital.write.format(\"delta\") \\\n",
    "        .mode(\"overwrite\") \\\n",
    "        .option(\"overwriteSchema\", \"true\") \\\n",
    "        .saveAsTable(\"processed_outputs.curated.risk_by_hospital\")\n",
    "    log_step(\"SAVE_RISK_BY_HOSPITAL\", \"INFO\", f\"Saved {risk_by_hospital.count()} rows to risk_by_hospital\")\n",
    "    display(risk_by_hospital)\n",
    "\n",
    "    # ------------------------------\n",
    "    # Aggregation 4: Average RiskScore by SmokerStatus\n",
    "    # ------------------------------\n",
    "    risk_by_smoker = gold_df.groupBy(\"SmokerStatus\").agg(\n",
    "        avg(\"RiskScore\").alias(\"AvgRiskScore\"),\n",
    "        count(\"*\").alias(\"PatientCount\")\n",
    "    )\n",
    "    risk_by_smoker.write.format(\"delta\") \\\n",
    "        .mode(\"overwrite\") \\\n",
    "        .option(\"overwriteSchema\", \"true\") \\\n",
    "        .saveAsTable(\"processed_outputs.curated.risk_by_smoker\")\n",
    "    log_step(\"SAVE_RISK_BY_SMOKER\", \"INFO\", f\"Saved {risk_by_smoker.count()} rows to risk_by_smoker\")\n",
    "    display(risk_by_smoker)\n",
    "\n",
    "    # ------------------------------\n",
    "    # Aggregation 5: Average RiskScore by RaceEthnicityCategory\n",
    "    # ------------------------------\n",
    "    risk_by_race = gold_df.groupBy(\"RaceEthnicityCategory\").agg(\n",
    "        avg(\"RiskScore\").alias(\"AvgRiskScore\"),\n",
    "        count(\"*\").alias(\"PatientCount\")\n",
    "    )\n",
    "    risk_by_race.write.format(\"delta\") \\\n",
    "        .mode(\"overwrite\") \\\n",
    "        .option(\"overwriteSchema\", \"true\") \\\n",
    "        .saveAsTable(\"processed_outputs.curated.risk_by_race\")\n",
    "    log_step(\"SAVE_RISK_BY_RACE\", \"INFO\", f\"Saved {risk_by_race.count()} rows to risk_by_race\")\n",
    "    display(risk_by_race)\n",
    "\n",
    "    # ------------------------------\n",
    "    # End of Job\n",
    "    # ------------------------------\n",
    "    log_step(\"END\", \"SUCCESS\", \"Gold Layer extended aggregations completed successfully ✅\")\n",
    "    print(\"✅ Gold Layer extended aggregations generated successfully!\")\n",
    "\n",
    "except Exception as e:\n",
    "    log_step(\"ERROR\", \"FAIL\", traceback.format_exc())\n",
    "    raise\n"
   ]
  }
 ],
 "metadata": {
  "application/vnd.databricks.v1+notebook": {
   "computePreferences": null,
   "dashboards": [],
   "environmentMetadata": {
    "base_environment": "",
    "environment_version": "3"
   },
   "inputWidgetPreferences": null,
   "language": "python",
   "notebookMetadata": {
    "mostRecentlyExecutedCommandWithImplicitDF": {
     "commandId": 8269635870955443,
     "dataframes": [
      "_sqldf"
     ]
    },
    "pythonIndentUnit": 4
   },
   "notebookName": "gold_layer",
   "widgets": {}
  },
  "language_info": {
   "name": "python"
  }
 },
 "nbformat": 4,
 "nbformat_minor": 0
}
