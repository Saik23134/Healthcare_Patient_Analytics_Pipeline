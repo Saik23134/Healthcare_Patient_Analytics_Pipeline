{
 "cells": [
  {
   "cell_type": "code",
   "execution_count": 0,
   "metadata": {
    "application/vnd.databricks.v1+cell": {
     "cellMetadata": {
      "byteLimit": 2048000,
      "rowLimit": 10000
     },
     "inputWidgets": {},
     "nuid": "2deb2a4d-0af1-499c-a51c-293435c4fa40",
     "showTitle": false,
     "tableResultSettingsMap": {},
     "title": ""
    }
   },
   "outputs": [],
   "source": [
    "from pyspark.sql import SparkSession, Row\n",
    "from datetime import datetime\n",
    "import uuid\n",
    "import traceback\n",
    "\n",
    "# ---------------------------\n",
    "# Initialize Spark Session\n",
    "# ---------------------------\n",
    "spark = SparkSession.builder.appName(\"HealthcareBronzeLayer\").getOrCreate()\n",
    "\n",
    "# ---------------------------\n",
    "# Job ID for this run\n",
    "# ---------------------------\n",
    "job_id = str(uuid.uuid4())\n",
    "\n",
    "# ---------------------------\n",
    "# Logging function\n",
    "# ---------------------------\n",
    "def log_step(step_name, status=\"INFO\", message=\"\"):\n",
    "    log_df = spark.createDataFrame([\n",
    "        Row(\n",
    "            job_id=job_id,\n",
    "            timestamp=datetime.utcnow().isoformat(),\n",
    "            step=step_name,\n",
    "            status=status,\n",
    "            message=message\n",
    "        )\n",
    "    ])\n",
    "    (\n",
    "       log_df.write\n",
    "        .format(\"delta\")\n",
    "        .mode(\"append\")\n",
    "        .saveAsTable(\"logs.bronze_logs.log\")\n",
    "    )\n",
    "\n",
    "try:\n",
    "    log_step(\"START\", \"INFO\", \"Bronze layer ingestion started\")\n",
    "\n",
    "    # ---------------------------\n",
    "    # Load Bronze patient data\n",
    "    # ---------------------------\n",
    "    bronze_df = spark.read.format(\"delta\").load(\"s3://sai-bucket-hospital/delta/hearlth_records/2025-08-21/\")\n",
    "    log_step(\"LOAD_PATIENT\", \"INFO\", f\"Loaded {bronze_df.count()} rows from patient Bronze data\")\n",
    "\n",
    "    # ---------------------------\n",
    "    # Load Bronze hospital data\n",
    "    # ---------------------------\n",
    "    bronze_df1 = spark.read.format(\"delta\").load(\"s3://sai-bucket-hospital/delta/Hospital_details/\")\n",
    "    log_step(\"LOAD_HOSPITAL\", \"INFO\", f\"Loaded {bronze_df1.count()} rows from hospital Bronze data\")\n",
    "\n",
    "    # ---------------------------\n",
    "    # Save patient Bronze table\n",
    "    # ---------------------------\n",
    "    bronze_df.write.format(\"delta\").mode(\"overwrite\").saveAsTable(\"processed_outputs.bronze.patient\")\n",
    "    log_step(\"SAVE_PATIENT\", \"INFO\", \"Patient Bronze table saved successfully\")\n",
    "\n",
    "    # ---------------------------\n",
    "    # Save hospital Bronze table\n",
    "    # ---------------------------\n",
    "    bronze_df1.write.format(\"delta\").mode(\"overwrite\").saveAsTable(\"processed_outputs.bronze.hospital\")\n",
    "    log_step(\"SAVE_HOSPITAL\", \"INFO\", \"Hospital Bronze table saved successfully\")\n",
    "\n",
    "    log_step(\"END\", \"SUCCESS\", \"Bronze layer ingestion completed successfully ✅\")\n",
    "\n",
    "except Exception as e:\n",
    "    log_step(\"ERROR\", \"FAIL\", traceback.format_exc())\n",
    "    raise\n"
   ]
  }
 ],
 "metadata": {
  "application/vnd.databricks.v1+notebook": {
   "computePreferences": null,
   "dashboards": [],
   "environmentMetadata": {
    "base_environment": "",
    "environment_version": "3"
   },
   "inputWidgetPreferences": null,
   "language": "python",
   "notebookMetadata": {
    "pythonIndentUnit": 4
   },
   "notebookName": "bronze_layer",
   "widgets": {}
  },
  "language_info": {
   "name": "python"
  }
 },
 "nbformat": 4,
 "nbformat_minor": 0
}
